{
 "cells": [
  {
   "cell_type": "code",
   "execution_count": 1,
   "id": "79f23a8b",
   "metadata": {},
   "outputs": [],
   "source": [
    "import numpy as np\n",
    "import matplotlib.pyplot as plt"
   ]
  },
  {
   "cell_type": "code",
   "execution_count": 2,
   "id": "d0bccca6",
   "metadata": {},
   "outputs": [],
   "source": [
    "# m = input(\"mach number\")\n",
    "m=1"
   ]
  },
  {
   "cell_type": "code",
   "execution_count": 3,
   "id": "23b0d423",
   "metadata": {},
   "outputs": [],
   "source": [
    "# v = input(\"gamma\")\n",
    "v=1.1"
   ]
  },
  {
   "cell_type": "code",
   "execution_count": 4,
   "id": "64aad4f7",
   "metadata": {},
   "outputs": [],
   "source": [
    "def area_ratio(m,v):\n",
    "    return (1/m)*(((2/(v+1))*(1+(((v-1)/2)*m*m)))**((v+1)/(2*(v-1))))\n",
    "\n",
    "def pressure_ratio(m,v):\n",
    "    return ((1+(((v-1)/2)*m*m))**(v/(v-1)))\n",
    "\n",
    "def density_ratio(m,v):\n",
    "    return ((1+(((v-1)/2)*m*m))**(1/(v-1)))\n",
    "\n",
    "def temp_ratio(m,v):\n",
    "    return (1+(((v-1)/2)*m*m))"
   ]
  },
  {
   "cell_type": "code",
   "execution_count": 5,
   "id": "32c35c0d",
   "metadata": {},
   "outputs": [
    {
     "name": "stdout",
     "output_type": "stream",
     "text": [
      "1.0 \n",
      "\n",
      "1.7103393581163135 \n",
      "\n",
      "1.6288946267774413 \n",
      "\n",
      "1.05 \n",
      "\n"
     ]
    }
   ],
   "source": [
    "print(area_ratio(m,v), '\\n')\n",
    "print(pressure_ratio(m,v), '\\n')\n",
    "print(density_ratio(m,v), '\\n')\n",
    "print(temp_ratio(m,v), '\\n')"
   ]
  },
  {
   "cell_type": "markdown",
   "id": "50e00e45",
   "metadata": {},
   "source": [
    "### Area ratio v/s mach number"
   ]
  },
  {
   "cell_type": "code",
   "execution_count": 10,
   "id": "3a06aa8e",
   "metadata": {},
   "outputs": [
    {
     "data": {
      "application/vnd.jupyter.widget-view+json": {
       "model_id": "82ded790b22d40daa58e67b6e3ee4e13",
       "version_major": 2,
       "version_minor": 0
      },
      "text/plain": [
       "interactive(children=(FloatSlider(value=1.4, description='gamma', max=2.0, min=1.1, step=0.01), Output()), _do…"
      ]
     },
     "metadata": {},
     "output_type": "display_data"
    },
    {
     "data": {
      "text/plain": [
       "<function __main__.plot_graph(gamma)>"
      ]
     },
     "execution_count": 10,
     "metadata": {},
     "output_type": "execute_result"
    }
   ],
   "source": [
    "from ipywidgets import interact\n",
    "import ipywidgets\n",
    "\n",
    "mach = np.arange(0.02,4,0.01)\n",
    "def plot_graph(gamma):\n",
    "    area = area_ratio(mach,gamma)\n",
    "    plt.plot(mach,area)\n",
    "    plt.plot(1,1,'o')\n",
    "#     plt.xlim(0,50)\n",
    "    plt.xlabel(\"area ratio\")\n",
    "#     plt.ylim(0,50)\n",
    "    plt.ylabel(\"mach number\")\n",
    "    \n",
    "interact(plot_graph, gamma=ipywidgets.FloatSlider(value=1.4,min=1.1,max=2,step=0.01))"
   ]
  },
  {
   "cell_type": "markdown",
   "id": "d815f3e5",
   "metadata": {},
   "source": [
    "#### Results\n",
    "> - For a given subsonic mach number, the corresponding area ratio is always almost similar for any gamma\n",
    "> - As we increase gamma, the supersonic mach number corresponding to a given area ratio decreases"
   ]
  },
  {
   "cell_type": "markdown",
   "id": "942f31aa",
   "metadata": {},
   "source": [
    "### Pressure ratio v/s mach number"
   ]
  },
  {
   "cell_type": "code",
   "execution_count": 8,
   "id": "b0237505",
   "metadata": {},
   "outputs": [
    {
     "data": {
      "application/vnd.jupyter.widget-view+json": {
       "model_id": "24547cb68eb749fcbeeb5a9db04fafd2",
       "version_major": 2,
       "version_minor": 0
      },
      "text/plain": [
       "interactive(children=(FloatSlider(value=1.4, description='gamma', max=2.0, min=1.1, step=0.01), Output()), _do…"
      ]
     },
     "metadata": {},
     "output_type": "display_data"
    },
    {
     "data": {
      "text/plain": [
       "<function __main__.plot_graph(gamma)>"
      ]
     },
     "execution_count": 8,
     "metadata": {},
     "output_type": "execute_result"
    }
   ],
   "source": [
    "from ipywidgets import interact\n",
    "import ipywidgets\n",
    "\n",
    "mach = np.arange(0.02,4,0.01)\n",
    "def plot_graph(gamma):\n",
    "    pressure = pressure_ratio(mach,gamma)\n",
    "    plt.plot(pressure,mach)\n",
    "    plt.plot(1,1,'o')\n",
    "    plt.xlim(0,10)\n",
    "    plt.xlabel(\"stagnation pressure ratio\")\n",
    "#     plt.ylim(0,50)\n",
    "    plt.ylabel(\"mach number\")\n",
    "    \n",
    "interact(plot_graph, gamma=ipywidgets.FloatSlider(value=1.4,min=1.1,max=2,step=0.01))"
   ]
  },
  {
   "cell_type": "markdown",
   "id": "95312dae",
   "metadata": {},
   "source": [
    "### Density ratio v/s mach number"
   ]
  },
  {
   "cell_type": "code",
   "execution_count": 97,
   "id": "a0bfbb4f",
   "metadata": {},
   "outputs": [
    {
     "data": {
      "application/vnd.jupyter.widget-view+json": {
       "model_id": "f0166371b47e4c27b66bed9f1af0878e",
       "version_major": 2,
       "version_minor": 0
      },
      "text/plain": [
       "interactive(children=(FloatSlider(value=1.4, description='gamma', max=2.0, min=1.1, step=0.01), Output()), _do…"
      ]
     },
     "metadata": {},
     "output_type": "display_data"
    },
    {
     "data": {
      "text/plain": [
       "<function __main__.plot_graph(gamma)>"
      ]
     },
     "execution_count": 97,
     "metadata": {},
     "output_type": "execute_result"
    }
   ],
   "source": [
    "from ipywidgets import interact\n",
    "import ipywidgets\n",
    "\n",
    "mach = np.arange(0.02,4,0.01)\n",
    "def plot_graph(gamma):\n",
    "    density = density_ratio(mach,gamma)\n",
    "    plt.plot(density,mach)\n",
    "    plt.plot(1,1,'o')\n",
    "    plt.xlim(0,50)\n",
    "    plt.xlabel(\"density ratio\")\n",
    "#     plt.ylim(0,50)\n",
    "    plt.ylabel(\"mach number\")\n",
    "    \n",
    "interact(plot_graph, gamma=ipywidgets.FloatSlider(value=1.4,min=1.1,max=2,step=0.01))"
   ]
  },
  {
   "cell_type": "markdown",
   "id": "4f8d1ab4",
   "metadata": {},
   "source": [
    "### Temperature ratio v/s mach number"
   ]
  },
  {
   "cell_type": "code",
   "execution_count": 105,
   "id": "a296d44d",
   "metadata": {},
   "outputs": [
    {
     "data": {
      "application/vnd.jupyter.widget-view+json": {
       "model_id": "c1a45f7d262e4111836a5d0325627929",
       "version_major": 2,
       "version_minor": 0
      },
      "text/plain": [
       "interactive(children=(FloatSlider(value=1.4, description='gamma', max=2.0, min=1.1, step=0.01), Output()), _do…"
      ]
     },
     "metadata": {},
     "output_type": "display_data"
    },
    {
     "data": {
      "text/plain": [
       "<function __main__.plot_graph(gamma)>"
      ]
     },
     "execution_count": 105,
     "metadata": {},
     "output_type": "execute_result"
    }
   ],
   "source": [
    "from ipywidgets import interact\n",
    "import ipywidgets\n",
    "\n",
    "mach = np.arange(0.02,4,0.01)\n",
    "def plot_graph(gamma):\n",
    "    temp = temp_ratio(mach,gamma)\n",
    "    plt.plot(temp,mach)\n",
    "    plt.plot(1,1,'o')\n",
    "    plt.xlim(0,50)\n",
    "    plt.xlabel(\"temperature ratio\")\n",
    "#     plt.ylim(0,50)\n",
    "    plt.ylabel(\"mach number\")\n",
    "    \n",
    "interact(plot_graph, gamma=ipywidgets.FloatSlider(value=1.4,min=1.1,max=2,step=0.01))"
   ]
  },
  {
   "cell_type": "code",
   "execution_count": null,
   "id": "13d6d49f",
   "metadata": {},
   "outputs": [],
   "source": []
  }
 ],
 "metadata": {
  "kernelspec": {
   "display_name": "Python 3 (ipykernel)",
   "language": "python",
   "name": "python3"
  },
  "language_info": {
   "codemirror_mode": {
    "name": "ipython",
    "version": 3
   },
   "file_extension": ".py",
   "mimetype": "text/x-python",
   "name": "python",
   "nbconvert_exporter": "python",
   "pygments_lexer": "ipython3",
   "version": "3.9.7"
  }
 },
 "nbformat": 4,
 "nbformat_minor": 5
}
