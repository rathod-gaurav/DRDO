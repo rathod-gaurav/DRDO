{
 "cells": [
  {
   "cell_type": "markdown",
   "id": "650cb2c4",
   "metadata": {},
   "source": [
    "# Find mach number from given area ratio"
   ]
  },
  {
   "cell_type": "code",
   "execution_count": 11,
   "id": "114447fd",
   "metadata": {},
   "outputs": [],
   "source": [
    "# Defining Function\n",
    "def f(x):\n",
    "    return (((1/x)*(((2/(g+1))*(1+(((g-1)/2)*x*x)))**((g+1)/(2*(g-1))))) - a_r)\n",
    "\n",
    "# Implementing Bisection Method\n",
    "def bisection(x0,x1,e):\n",
    "    step = 1\n",
    "    condition = True\n",
    "    while condition:\n",
    "        x2 = (x0 + x1)/2\n",
    "        print(f\"Iteration: {step}, x2: {x2}, f(x2): {f(x2)}\")\n",
    "\n",
    "        if f(x0) * f(x2) < 0:\n",
    "            x1 = x2\n",
    "        else:\n",
    "            x0 = x2\n",
    "        \n",
    "        step = step + 1\n",
    "        condition = abs(f(x2)) > e\n",
    "\n",
    "    print(f\"Required mach number is: {x2}\")\n",
    "\n",
    "\n",
    "def bisection_subsonic():\n",
    "    x0 = 0.01\n",
    "    x1 = 1\n",
    "    bisection(x0,x1,e)\n",
    "\n",
    "def bisection_supersonic():\n",
    "    x0 = 1\n",
    "    x1 = 10\n",
    "    bisection(x0,x1,e)\n"
   ]
  },
  {
   "cell_type": "code",
   "execution_count": 13,
   "id": "9b79f2b0",
   "metadata": {},
   "outputs": [
    {
     "name": "stdout",
     "output_type": "stream",
     "text": [
      "gamma: 1.4\n",
      "area_ratio: 31.1992\n",
      "tolerance: 0.00001\n"
     ]
    }
   ],
   "source": [
    "g = float(input(\"gamma: \"))\n",
    "a_r = float(input(\"area_ratio: \"))\n",
    "e = float(input(\"tolerance: \"))"
   ]
  },
  {
   "cell_type": "code",
   "execution_count": 14,
   "id": "6ec1ce2c",
   "metadata": {},
   "outputs": [
    {
     "name": "stdout",
     "output_type": "stream",
     "text": [
      "Iteration: 1, x2: 0.505, f(x2): -29.86880920873003\n",
      "Iteration: 2, x2: 0.2575, f(x2): -28.86120632778659\n",
      "Iteration: 3, x2: 0.13375, f(x2): -26.825836009321947\n",
      "Iteration: 4, x2: 0.07187500000000001, f(x2): -23.122687818002852\n",
      "Iteration: 5, x2: 0.0409375, f(x2): -17.04870714716119\n",
      "Iteration: 6, x2: 0.025468750000000002, f(x2): -8.46824692504283\n",
      "Iteration: 7, x2: 0.017734375, f(x2): 1.4387088498636338\n",
      "Iteration: 8, x2: 0.0216015625, f(x2): -4.401798549829891\n",
      "Iteration: 9, x2: 0.01966796875, f(x2): -1.7687063340699822\n",
      "Iteration: 10, x2: 0.018701171875, f(x2): -0.247923180328673\n",
      "Iteration: 11, x2: 0.0182177734375, f(x2): 0.5730114600864873\n",
      "Iteration: 12, x2: 0.01845947265625, f(x2): 0.1571685841972652\n",
      "Iteration: 13, x2: 0.018580322265624998, f(x2): -0.04669496433402642\n",
      "Iteration: 14, x2: 0.018519897460937497, f(x2): 0.054904169005872916\n",
      "Iteration: 15, x2: 0.018550109863281247, f(x2): 0.004021848431506214\n",
      "Iteration: 16, x2: 0.018565216064453122, f(x2): -0.021357195925801875\n",
      "Iteration: 17, x2: 0.018557662963867183, f(x2): -0.008672839540629695\n",
      "Iteration: 18, x2: 0.018553886413574215, f(x2): -0.002326787791556484\n",
      "Iteration: 19, x2: 0.01855199813842773, f(x2): 0.0008472071620744259\n",
      "Iteration: 20, x2: 0.018552942276000975, f(x2): -0.0007398710918593565\n",
      "Iteration: 21, x2: 0.01855247020721435, f(x2): 5.364783928740735e-05\n",
      "Iteration: 22, x2: 0.018552706241607663, f(x2): -0.00034311667505804166\n",
      "Iteration: 23, x2: 0.018552588224411005, f(x2): -0.0001447356800916566\n",
      "Iteration: 24, x2: 0.01855252921581268, f(x2): -4.554423594882451e-05\n",
      "Iteration: 25, x2: 0.018552499711513515, f(x2): 4.051722761744259e-06\n",
      "Required mach number is: 0.018552499711513515\n"
     ]
    }
   ],
   "source": [
    "bisection_subsonic()"
   ]
  },
  {
   "cell_type": "code",
   "execution_count": 15,
   "id": "53cc9c59",
   "metadata": {},
   "outputs": [
    {
     "name": "stdout",
     "output_type": "stream",
     "text": [
      "Iteration: 1, x2: 5.5, f(x2): 5.669763068181812\n",
      "Iteration: 2, x2: 3.25, f(x2): -25.83010632512019\n",
      "Iteration: 3, x2: 4.375, f(x2): -16.311976075090683\n",
      "Iteration: 4, x2: 4.9375, f(x2): -7.422804825478551\n",
      "Iteration: 5, x2: 5.21875, f(x2): -1.4841141622776348\n",
      "Iteration: 6, x2: 5.359375, f(x2): 1.9296882544486103\n",
      "Iteration: 7, x2: 5.2890625, f(x2): 0.18345243185017424\n",
      "Iteration: 8, x2: 5.25390625, f(x2): -0.6599872973725738\n",
      "Iteration: 9, x2: 5.271484375, f(x2): -0.24070351828514092\n",
      "Iteration: 10, x2: 5.2802734375, f(x2): -0.029237327067558994\n",
      "Iteration: 11, x2: 5.28466796875, f(x2): 0.07695426016254814\n",
      "Iteration: 12, x2: 5.282470703125, f(x2): 0.023820186816369215\n",
      "Iteration: 13, x2: 5.2813720703125, f(x2): -0.002718134646350734\n",
      "Iteration: 14, x2: 5.28192138671875, f(x2): 0.010548634278489288\n",
      "Iteration: 15, x2: 5.281646728515625, f(x2): 0.00391465194898899\n",
      "Iteration: 16, x2: 5.2815093994140625, f(x2): 0.0005981091951277051\n",
      "Iteration: 17, x2: 5.281440734863281, f(x2): -0.0010600500883626296\n",
      "Iteration: 18, x2: 5.281475067138672, f(x2): -0.0002309797874673336\n",
      "Iteration: 19, x2: 5.281492233276367, f(x2): 0.00018356236859062847\n",
      "Iteration: 20, x2: 5.2814836502075195, f(x2): -2.3709293252238695e-05\n",
      "Iteration: 21, x2: 5.281487941741943, f(x2): 7.992639173792782e-05\n",
      "Iteration: 22, x2: 5.2814857959747314, f(x2): 2.810851275114601e-05\n",
      "Iteration: 23, x2: 5.2814847230911255, f(x2): 2.199600636743071e-06\n",
      "Required mach number is: 5.2814847230911255\n"
     ]
    }
   ],
   "source": [
    "bisection_supersonic()"
   ]
  },
  {
   "cell_type": "code",
   "execution_count": null,
   "id": "0d2ce3c4",
   "metadata": {},
   "outputs": [],
   "source": []
  }
 ],
 "metadata": {
  "kernelspec": {
   "display_name": "Python 3 (ipykernel)",
   "language": "python",
   "name": "python3"
  },
  "language_info": {
   "codemirror_mode": {
    "name": "ipython",
    "version": 3
   },
   "file_extension": ".py",
   "mimetype": "text/x-python",
   "name": "python",
   "nbconvert_exporter": "python",
   "pygments_lexer": "ipython3",
   "version": "3.9.7"
  }
 },
 "nbformat": 4,
 "nbformat_minor": 5
}
